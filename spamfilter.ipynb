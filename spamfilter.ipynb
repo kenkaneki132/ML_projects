{
 "cells": [
  {
   "cell_type": "code",
   "execution_count": 71,
   "metadata": {},
   "outputs": [],
   "source": [
    "import string\n",
    "import math\n",
    "import numpy as np"
   ]
  },
  {
   "cell_type": "code",
   "execution_count": 72,
   "metadata": {},
   "outputs": [],
   "source": [
    "def clean(line):\n",
    "    line = line.lower()\n",
    "    line = line.translate(str.maketrans('', '', string.punctuation))\n",
    "    return line"
   ]
  },
  {
   "cell_type": "code",
   "execution_count": 73,
   "metadata": {},
   "outputs": [],
   "source": [
    "def get_spam_nonspam_word_counts(Emails):\n",
    "    spamWords = {}\n",
    "    nonspamWords = {}\n",
    "    countSpamEmails=0\n",
    "    countNonSpamEmails =0\n",
    "    for line in Emails:\n",
    "        words = line.split(' ')\n",
    "        x = int(words.pop())\n",
    "        newline =line.translate(str.maketrans('', '', string.digits))\n",
    "        words = newline.split(' ')\n",
    "        if x==0 :\n",
    "            countNonSpamEmails +=1\n",
    "            for i in words:\n",
    "                if nonspamWords.get(i):\n",
    "                    nonspamWords[i] += 1\n",
    "                else:\n",
    "                    nonspamWords[i] = 2\n",
    "        else:\n",
    "            countSpamEmails+= 1\n",
    "            for i in words:\n",
    "                if spamWords.get(i):\n",
    "                    spamWords[i] += 1\n",
    "                else:\n",
    "                    spamWords[i] = 2\n",
    "    return spamWords,nonspamWords,countSpamEmails,countNonSpamEmails"
   ]
  },
  {
   "cell_type": "code",
   "execution_count": 75,
   "metadata": {},
   "outputs": [],
   "source": [
    "def exp(trainEmails,testEmails):\n",
    "    spamTrainWords, nonspamTrainWords,lenspamTrainEmails,lennonspamTrainEmails = get_spam_nonspam_word_counts(trainEmails)\n",
    "    pspam = lenspamTrainEmails/(lenspamTrainEmails+lennonspamTrainEmails)\n",
    "    pnonspam = 1- pspam\n",
    "    correctlyClassified = 0\n",
    "    for line in testEmails:\n",
    "        x = int(line.split(' ').pop())\n",
    "        line = line.translate(str.maketrans('', '', string.digits))\n",
    "        words = line.split(' ')\n",
    "        probspam =1\n",
    "        probnonspam =1\n",
    "        for i in words:\n",
    "            countspam = spamTrainWords.get(i)\n",
    "            if countspam==None:\n",
    "                countspam =1\n",
    "            probspam *= countspam/len(spamTrainWords)\n",
    "            countnonspam = nonspamTrainWords.get(i)\n",
    "            if countnonspam ==None:\n",
    "                countnonspam =1\n",
    "            probnonspam *= countnonspam/len(nonspamTrainWords)\n",
    "        if pspam*probspam >= pnonspam*probnonspam:\n",
    "            if x == 1:\n",
    "                correctlyClassified +=1\n",
    "        else:\n",
    "            if x ==0:\n",
    "                correctlyClassified+=1\n",
    "    return (correctlyClassified/len(testEmails))*100"
   ]
  },
  {
   "cell_type": "code",
   "execution_count": 76,
   "metadata": {},
   "outputs": [
    {
     "name": "stdout",
     "output_type": "stream",
     "text": [
      "1 stfold 78.16901408450704\n",
      "2 stfold 81.69014084507043\n",
      "3 stfold 77.46478873239437\n",
      "4 stfold 71.83098591549296\n",
      "5 stfold 74.64788732394366\n",
      "6 stfold 77.46478873239437\n",
      "7 stfold 75.35211267605634\n"
     ]
    }
   ],
   "source": [
    "f = open('dataset_NB.txt','r')\n",
    "sentences = []\n",
    "line = f.readline()\n",
    "while line != '':\n",
    "    line = clean(line)\n",
    "    sentences.append(line)\n",
    "    line = f.readline()\n",
    "\n",
    "length = len(sentences)\n",
    "sentences = np.array(sentences).reshape((1,length))\n",
    "testpart = length//7\n",
    "totaleffieciency = 0\n",
    "for i in range(1,8):\n",
    "    testEmails = sentences[:,(i-1)*testpart: i*testpart]\n",
    "    trainEmails = np.delete(sentences, range((i-1)*testpart, i*testpart), axis = 1)\n",
    "    effieciency = exp(list(trainEmails[0]),list(testEmails[0]))\n",
    "    totaleffieciency += effieciency\n",
    "    print(i,'st' + 'fold', effieciency)\n"
   ]
  },
  {
   "cell_type": "code",
   "execution_count": 77,
   "metadata": {},
   "outputs": [
    {
     "name": "stdout",
     "output_type": "stream",
     "text": [
      "effieciency of spam filter is 76.65995975855131\n"
     ]
    }
   ],
   "source": [
    "print('effieciency of spam filter is',totaleffieciency/7)"
   ]
  },
  {
   "cell_type": "code",
   "execution_count": null,
   "metadata": {},
   "outputs": [],
   "source": []
  }
 ],
 "metadata": {
  "kernelspec": {
   "display_name": "Python 3",
   "language": "python",
   "name": "python3"
  },
  "language_info": {
   "codemirror_mode": {
    "name": "ipython",
    "version": 3
   },
   "file_extension": ".py",
   "mimetype": "text/x-python",
   "name": "python",
   "nbconvert_exporter": "python",
   "pygments_lexer": "ipython3",
   "version": "3.8.5"
  }
 },
 "nbformat": 4,
 "nbformat_minor": 5
}
